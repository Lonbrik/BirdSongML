{
 "cells": [
  {
   "cell_type": "markdown",
   "metadata": {},
   "source": [
    "# BirdSong Machine Learning"
   ]
  },
  {
   "cell_type": "markdown",
   "metadata": {},
   "source": [
    "## Installation du Kernel C++\n",
    "\n",
    "```\n",
    "conda create -n xeus-cling\n",
    "source activate xeus-cling\n",
    "conda install -c conda-forge xeus-cling\n",
    "conda install notebook -c conda-forge\n",
    "source activate xeus-cling\n",
    "jupyter-notebook\n",
    "```"
   ]
  },
  {
   "cell_type": "code",
   "execution_count": null,
   "metadata": {},
   "outputs": [],
   "source": [
    "#include <iostream>\n",
    "using namespace std;\n",
    "\n",
    "cout << \"Hello word\"<<endl;\n"
   ]
  },
  {
   "cell_type": "markdown",
   "metadata": {},
   "source": [
    "# Bibliothèques KFR ( son)\n",
    "[KFR](https://www.kfrlib.com/)"
   ]
  },
  {
   "cell_type": "code",
   "execution_count": 1,
   "metadata": {},
   "outputs": [
    {
     "name": "stderr",
     "output_type": "stream",
     "text": [
      "\u001b[1minput_line_7:1:10: \u001b[0m\u001b[0;1;31mfatal error: \u001b[0m\u001b[1m'lib/kfr/dft.hpp' file not found\u001b[0m\n",
      "#include <lib/kfr/dft.hpp>\n",
      "\u001b[0;1;32m         ^~~~~~~~~~~~~~~~~\n",
      "\u001b[0m"
     ]
    },
    {
     "ename": "Interpreter Error",
     "evalue": "",
     "output_type": "error",
     "traceback": [
      "Interpreter Error: "
     ]
    }
   ],
   "source": [
    "#include <lib/kfr/dft.hpp>\n",
    "using namespace kfr;\n",
    "// prepare data (0, 1, 2, ..., 255)\n",
    "univector<complex<double>, 256> data = cexp(\n",
    "        linspace(0, c_pi<double, 2>, 256) * make_complex(0, 1));\n",
    "univector<complex<double>, 256> freq;\n",
    " \n",
    "// do the forward FFT\n",
    "freq = dft(data);"
   ]
  },
  {
   "cell_type": "markdown",
   "metadata": {},
   "source": [
    "## DATASET"
   ]
  },
  {
   "cell_type": "code",
   "execution_count": null,
   "metadata": {},
   "outputs": [],
   "source": []
  }
 ],
 "metadata": {
  "kernelspec": {
   "display_name": "C++17",
   "language": "C++17",
   "name": "xcpp17"
  }
 },
 "nbformat": 4,
 "nbformat_minor": 4
}
